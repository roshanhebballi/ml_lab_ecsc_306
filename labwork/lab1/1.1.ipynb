{
 "cells": [
  {
   "cell_type": "code",
   "execution_count": 4,
   "metadata": {},
   "outputs": [
    {
     "name": "stdout",
     "output_type": "stream",
     "text": [
      "10\n",
      "5\n",
      "25\n"
     ]
    }
   ],
   "source": [
    "import tensorflow as tf\n",
    "tf.reset_default_graph()\n",
    "a=int(input())\n",
    "b=int(input())\n",
    "with tf.name_scope(\"Square_of_two_numbers\"):\n",
    "    with tf.name_scope(\"A2\"):\n",
    "        x=tf.multiply(a, a,)\n",
    "    with tf.name_scope(\"B2\"):\n",
    "        y=tf.multiply(b, b,)\n",
    "with tf.name_scope(\"Product_of_2AB\"):\n",
    "    with tf.name_scope(\"2AB\"):\n",
    "        c=tf.multiply(2, a,)\n",
    "        d=tf.multiply(c, b,)\n",
    "with tf.name_scope(\"Final\"):\n",
    "    e=tf.add(x, y,)\n",
    "    f=tf.subtract(e, d,)\n",
    "with tf.Session() as sess:\n",
    "    writer = tf.summary.FileWriter(\"/tmp/tboard/output\", sess.graph)\n",
    "    print(sess.run(f))\n",
    "    writer.close()"
   ]
  },
  {
   "cell_type": "code",
   "execution_count": null,
   "metadata": {
    "collapsed": true
   },
   "outputs": [],
   "source": []
  },
  {
   "cell_type": "code",
   "execution_count": null,
   "metadata": {
    "collapsed": true
   },
   "outputs": [],
   "source": []
  }
 ],
 "metadata": {
  "kernelspec": {
   "display_name": "Python 3",
   "language": "python",
   "name": "python3"
  },
  "language_info": {
   "codemirror_mode": {
    "name": "ipython",
    "version": 3
   },
   "file_extension": ".py",
   "mimetype": "text/x-python",
   "name": "python",
   "nbconvert_exporter": "python",
   "pygments_lexer": "ipython3",
   "version": "3.6.2"
  }
 },
 "nbformat": 4,
 "nbformat_minor": 2
}
