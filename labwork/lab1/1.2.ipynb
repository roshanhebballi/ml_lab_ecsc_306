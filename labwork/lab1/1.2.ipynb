{
 "cells": [
  {
   "cell_type": "code",
   "execution_count": 2,
   "metadata": {},
   "outputs": [
    {
     "name": "stdout",
     "output_type": "stream",
     "text": [
      "2\n",
      "1\n",
      "27\n"
     ]
    }
   ],
   "source": [
    "import tensorflow as tf\n",
    "tf.reset_default_graph()\n",
    "x=int(input())\n",
    "y=int(input())\n",
    "with tf.name_scope(\"Cube_of_two_numbers\"):\n",
    "    with tf.name_scope(\"A3\"):\n",
    "        a=tf.multiply(x, x,)\n",
    "        b=tf.multiply(a, x,)\n",
    "    with tf.name_scope(\"B3\"):\n",
    "        c=tf.multiply(y, y,)\n",
    "        d=tf.multiply(c, y,)\n",
    "with tf.name_scope(\"Product_of_3AB\"):\n",
    "    with tf.name_scope(\"3AB\"):\n",
    "        e=tf.multiply(3, x,)\n",
    "        f=tf.multiply(e, y,)\n",
    "with tf.name_scope(\"Final\"):\n",
    "    g=tf.add(x, y,)\n",
    "    h=tf.multiply(f, g,)\n",
    "    i=tf.add(b, d,)\n",
    "    j=tf.add(i, h,)\n",
    "with tf.Session() as sess:\n",
    "    writer = tf.summary.FileWriter(\"/tmp/tboard/output\", sess.graph)\n",
    "    print(sess.run(j))\n",
    "    writer.close()"
   ]
  },
  {
   "cell_type": "code",
   "execution_count": null,
   "metadata": {
    "collapsed": true
   },
   "outputs": [],
   "source": []
  },
  {
   "cell_type": "code",
   "execution_count": null,
   "metadata": {
    "collapsed": true
   },
   "outputs": [],
   "source": []
  }
 ],
 "metadata": {
  "kernelspec": {
   "display_name": "Python 3",
   "language": "python",
   "name": "python3"
  },
  "language_info": {
   "codemirror_mode": {
    "name": "ipython",
    "version": 3
   },
   "file_extension": ".py",
   "mimetype": "text/x-python",
   "name": "python",
   "nbconvert_exporter": "python",
   "pygments_lexer": "ipython3",
   "version": "3.6.2"
  }
 },
 "nbformat": 4,
 "nbformat_minor": 2
}
